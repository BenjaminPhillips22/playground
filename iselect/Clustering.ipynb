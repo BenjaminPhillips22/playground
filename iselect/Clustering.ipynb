{
 "cells": [
  {
   "cell_type": "code",
   "execution_count": 2,
   "metadata": {
    "collapsed": false
   },
   "outputs": [],
   "source": [
    "# Load Required Packages\n",
    "library(plotly)\n",
    "library(data.table)\n",
    "library(ggplot2)\n",
    "library(reshape2)\n",
    "library(rattle)\n",
    "library(GGally)\n",
    "\n",
    "# Session Options\n",
    "options(repr.plot.width=11, repr.plot.height=7)"
   ]
  },
  {
   "cell_type": "code",
   "execution_count": 3,
   "metadata": {
    "collapsed": true
   },
   "outputs": [],
   "source": [
    "# Source Data\n",
    "dt <- fread('/Users/yassineltahir/Downloads/analysisProblemForInterview.csv', \n",
    "            colClasses=list(character=1:7))\n",
    "\n",
    "# Clean & format data\n",
    "dt$Customer_ID <- as.factor(dt$Customer_ID)\n",
    "dt$result_rank <- as.numeric(dt$result_rank)\n",
    "dt$provider_Nm <- as.factor(dt$provider_Nm)\n",
    "dt$product_name <- as.factor(dt$product_name)\n",
    "dt$dummy_quote_value <- as.numeric(ifelse(dt$dummy_quote_value == 'MISSING', NA, dt$dummy_quote_value))\n",
    "dt$Sale_made <- as.factor(dt$Sale_made)\n",
    "dt$Sale_source <- as.factor(dt$Sale_source)\n"
   ]
  },
  {
   "cell_type": "code",
   "execution_count": null,
   "metadata": {
    "collapsed": true
   },
   "outputs": [],
   "source": []
  }
 ],
 "metadata": {
  "kernelspec": {
   "display_name": "R",
   "language": "R",
   "name": "ir"
  },
  "language_info": {
   "codemirror_mode": "r",
   "file_extension": ".r",
   "mimetype": "text/x-r-source",
   "name": "R",
   "pygments_lexer": "r",
   "version": "3.2.2"
  }
 },
 "nbformat": 4,
 "nbformat_minor": 0
}
