{
 "cells": [
  {
   "cell_type": "markdown",
   "metadata": {},
   "source": [
    "# Cluster Exploration\n",
    "\n",
    "Look for clusters and understand their attributes"
   ]
  },
  {
   "cell_type": "code",
   "execution_count": 7,
   "metadata": {
    "collapsed": false
   },
   "outputs": [],
   "source": [
    "# Load Required Packages\n",
    "library(plotly)\n",
    "library(data.table)\n",
    "library(ggplot2)\n",
    "library(reshape2)\n",
    "library(rattle)\n",
    "library(GGally)\n",
    "library(rCharts)\n",
    "\n",
    "# Session Options\n",
    "options(repr.plot.width=10, repr.plot.height=7)"
   ]
  },
  {
   "cell_type": "code",
   "execution_count": 6,
   "metadata": {
    "collapsed": true
   },
   "outputs": [],
   "source": [
    "# Source Data\n",
    "dt <- fread('/Users/yassineltahir/Downloads/analysisProblemForInterview.csv', \n",
    "            colClasses=list(character=1:7))\n",
    "\n",
    "# Clean & format data\n",
    "dt$Customer_ID <- as.factor(dt$Customer_ID)\n",
    "dt$result_rank <- as.numeric(dt$result_rank)\n",
    "dt$provider_Nm <- as.factor(dt$provider_Nm)\n",
    "dt$product_name <- as.factor(dt$product_name)\n",
    "dt$dummy_quote_value <- as.numeric(ifelse(dt$dummy_quote_value == 'MISSING', NA, dt$dummy_quote_value))\n",
    "dt$Sale_made <- as.factor(dt$Sale_made)\n",
    "dt$Sale_source <- as.factor(dt$Sale_source)\n",
    "dt[Sale_source==\"\"]$Sale_source <- \"No Sale\"\n"
   ]
  },
  {
   "cell_type": "markdown",
   "metadata": {
    "collapsed": true
   },
   "source": [
    "## Parallel Coordinates"
   ]
  },
  {
   "cell_type": "code",
   "execution_count": 18,
   "metadata": {
    "collapsed": false
   },
   "outputs": [
    {
     "name": "stderr",
     "output_type": "stream",
     "text": [
      "Warning message:\n",
      "In min(x, na.rm = na.rm): no non-missing arguments to min; returning InfWarning message:\n",
      "In max(x, na.rm = na.rm): no non-missing arguments to max; returning -InfWarning message:\n",
      "In file(con, \"r\"): cannot open file '/config.yml': No such file or directory"
     ]
    },
    {
     "ename": "ERROR",
     "evalue": "Error in file(con, \"r\"): cannot open the connection\n",
     "output_type": "error",
     "traceback": [
      "Error in file(con, \"r\"): cannot open the connection\n"
     ]
    }
   ],
   "source": [
    "# initialize chart and set path to parcoords library\n",
    "p1 <- rCharts$new()\n",
    "p1$setLib(\"libraries/widgets/parcoords\")\n",
    "\n",
    "# add more details to the plot\n",
    "p1$set(\n",
    "  padding = list(top = 24, left = 0, bottom = 12, right = 200)\n",
    ")\n",
    "p1$set(\n",
    "  data = toJSONArray(dt, json = F), \n",
    "  colorby = 'Sale_source', \n",
    "  range = range(cars$economy)\n",
    ")\n",
    "p1"
   ]
  },
  {
   "cell_type": "code",
   "execution_count": 15,
   "metadata": {
    "collapsed": false
   },
   "outputs": [
    {
     "data": {
      "text/html": [
       "'/Users/yassineltahir/Repos/playground/iselect'"
      ],
      "text/latex": [
       "'/Users/yassineltahir/Repos/playground/iselect'"
      ],
      "text/markdown": [
       "'/Users/yassineltahir/Repos/playground/iselect'"
      ],
      "text/plain": [
       "[1] \"/Users/yassineltahir/Repos/playground/iselect\""
      ]
     },
     "execution_count": 15,
     "metadata": {},
     "output_type": "execute_result"
    }
   ],
   "source": [
    "getwd()"
   ]
  },
  {
   "cell_type": "code",
   "execution_count": null,
   "metadata": {
    "collapsed": true
   },
   "outputs": [],
   "source": []
  }
 ],
 "metadata": {
  "kernelspec": {
   "display_name": "R",
   "language": "R",
   "name": "ir"
  },
  "language_info": {
   "codemirror_mode": "r",
   "file_extension": ".r",
   "mimetype": "text/x-r-source",
   "name": "R",
   "pygments_lexer": "r",
   "version": "3.2.2"
  }
 },
 "nbformat": 4,
 "nbformat_minor": 0
}
