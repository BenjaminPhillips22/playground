{
 "cells": [
  {
   "cell_type": "markdown",
   "metadata": {
    "slideshow": {
     "slide_type": "slide"
    }
   },
   "source": [
    "# From Venus to Mars to Jupyter\n",
    "\n",
    "Yassin Eltahir\n",
    "\n",
    "19th October 2016"
   ]
  },
  {
   "cell_type": "markdown",
   "metadata": {
    "slideshow": {
     "slide_type": "slide"
    }
   },
   "source": [
    "# What is Jupyter?"
   ]
  },
  {
   "cell_type": "markdown",
   "metadata": {
    "slideshow": {
     "slide_type": "fragment"
    }
   },
   "source": [
    "* A notebook developement environment that supports multiple languages"
   ]
  },
  {
   "cell_type": "markdown",
   "metadata": {
    "slideshow": {
     "slide_type": "fragment"
    }
   },
   "source": [
    "* Essentially an interactive document"
   ]
  },
  {
   "cell_type": "markdown",
   "metadata": {
    "slideshow": {
     "slide_type": "fragment"
    }
   },
   "source": [
    "* Your workflow is broken into chunks or cells that are isolated from one another"
   ]
  },
  {
   "cell_type": "markdown",
   "metadata": {
    "slideshow": {
     "slide_type": "fragment"
    }
   },
   "source": [
    "* An approach to analysis that allows you to easily:\n",
    "    * Import and transform some data\n",
    "    * View analysis inline\n",
    "    * Document as you go"
   ]
  },
  {
   "cell_type": "markdown",
   "metadata": {
    "slideshow": {
     "slide_type": "fragment"
    }
   },
   "source": [
    "* Supports common data analysis languages such as Julia (Ju-), Python (-Py-), R(-teR) etc"
   ]
  },
  {
   "cell_type": "markdown",
   "metadata": {
    "slideshow": {
     "slide_type": "fragment"
    }
   },
   "source": [
    "* All running in your browser"
   ]
  },
  {
   "cell_type": "markdown",
   "metadata": {
    "slideshow": {
     "slide_type": "slide"
    }
   },
   "source": [
    "# Examples\n",
    "\n",
    "* R + Jupyter Example: \n",
    "https://tmp58.tmpnb.org/user/XFZRjL1Pel86/notebooks/Welcome%20R%20%20-%20demo.ipynb\n",
    "\n",
    "* Scala & Spark + Jupyter Example:\n",
    "https://tmp58.tmpnb.org/user/XFZRjL1Pel86/notebooks/Welcome%20to%20Spark%20with%20Scala.ipynb"
   ]
  },
  {
   "cell_type": "markdown",
   "metadata": {
    "slideshow": {
     "slide_type": "slide"
    }
   },
   "source": [
    "# But wait..."
   ]
  },
  {
   "cell_type": "markdown",
   "metadata": {
    "slideshow": {
     "slide_type": "fragment"
    }
   },
   "source": [
    "# ...there's more!"
   ]
  },
  {
   "cell_type": "markdown",
   "metadata": {
    "slideshow": {
     "slide_type": "slide"
    }
   },
   "source": [
    "# Sexy Slides\n",
    "\n",
    "\n",
    "* With just a few clicks you can turn your analysis into a beautiful, interactive slideshow\n",
    "\n",
    "\n",
    "* In fact, this presentaiton is a jupyter notebook using the R Kernal\n",
    "\n",
    "\n"
   ]
  },
  {
   "cell_type": "markdown",
   "metadata": {
    "slideshow": {
     "slide_type": "slide"
    }
   },
   "source": [
    "# Sample Analysis Results\n",
    "* Lets load up the popular mtcars dataset and have a look"
   ]
  },
  {
   "cell_type": "code",
   "execution_count": 15,
   "metadata": {
    "collapsed": false,
    "slideshow": {
     "slide_type": "-"
    }
   },
   "outputs": [
    {
     "data": {
      "text/html": [
       "<table>\n",
       "<thead><tr><th></th><th scope=col>mpg</th><th scope=col>cyl</th><th scope=col>disp</th><th scope=col>hp</th><th scope=col>drat</th><th scope=col>wt</th><th scope=col>qsec</th><th scope=col>vs</th><th scope=col>am</th><th scope=col>gear</th><th scope=col>carb</th></tr></thead>\n",
       "<tbody>\n",
       "\t<tr><th scope=row>Mazda RX4</th><td>21.0 </td><td>6    </td><td>160  </td><td>110  </td><td>3.90 </td><td>2.620</td><td>16.46</td><td>0    </td><td>1    </td><td>4    </td><td>4    </td></tr>\n",
       "\t<tr><th scope=row>Mazda RX4 Wag</th><td>21.0 </td><td>6    </td><td>160  </td><td>110  </td><td>3.90 </td><td>2.875</td><td>17.02</td><td>0    </td><td>1    </td><td>4    </td><td>4    </td></tr>\n",
       "\t<tr><th scope=row>Datsun 710</th><td>22.8 </td><td>4    </td><td>108  </td><td> 93  </td><td>3.85 </td><td>2.320</td><td>18.61</td><td>1    </td><td>1    </td><td>4    </td><td>1    </td></tr>\n",
       "\t<tr><th scope=row>Hornet 4 Drive</th><td>21.4 </td><td>6    </td><td>258  </td><td>110  </td><td>3.08 </td><td>3.215</td><td>19.44</td><td>1    </td><td>0    </td><td>3    </td><td>1    </td></tr>\n",
       "\t<tr><th scope=row>Hornet Sportabout</th><td>18.7 </td><td>8    </td><td>360  </td><td>175  </td><td>3.15 </td><td>3.440</td><td>17.02</td><td>0    </td><td>0    </td><td>3    </td><td>2    </td></tr>\n",
       "\t<tr><th scope=row>Valiant</th><td>18.1 </td><td>6    </td><td>225  </td><td>105  </td><td>2.76 </td><td>3.460</td><td>20.22</td><td>1    </td><td>0    </td><td>3    </td><td>1    </td></tr>\n",
       "</tbody>\n",
       "</table>\n"
      ],
      "text/latex": [
       "\\begin{tabular}{r|lllllllllll}\n",
       "  & mpg & cyl & disp & hp & drat & wt & qsec & vs & am & gear & carb\\\\\n",
       "\\hline\n",
       "\tMazda RX4 & 21.0  & 6     & 160   & 110   & 3.90  & 2.620 & 16.46 & 0     & 1     & 4     & 4    \\\\\n",
       "\tMazda RX4 Wag & 21.0  & 6     & 160   & 110   & 3.90  & 2.875 & 17.02 & 0     & 1     & 4     & 4    \\\\\n",
       "\tDatsun 710 & 22.8  & 4     & 108   &  93   & 3.85  & 2.320 & 18.61 & 1     & 1     & 4     & 1    \\\\\n",
       "\tHornet 4 Drive & 21.4  & 6     & 258   & 110   & 3.08  & 3.215 & 19.44 & 1     & 0     & 3     & 1    \\\\\n",
       "\tHornet Sportabout & 18.7  & 8     & 360   & 175   & 3.15  & 3.440 & 17.02 & 0     & 0     & 3     & 2    \\\\\n",
       "\tValiant & 18.1  & 6     & 225   & 105   & 2.76  & 3.460 & 20.22 & 1     & 0     & 3     & 1    \\\\\n",
       "\\end{tabular}\n"
      ],
      "text/plain": [
       "                  mpg  cyl disp hp  drat wt    qsec  vs am gear carb\n",
       "Mazda RX4         21.0 6   160  110 3.90 2.620 16.46 0  1  4    4   \n",
       "Mazda RX4 Wag     21.0 6   160  110 3.90 2.875 17.02 0  1  4    4   \n",
       "Datsun 710        22.8 4   108   93 3.85 2.320 18.61 1  1  4    1   \n",
       "Hornet 4 Drive    21.4 6   258  110 3.08 3.215 19.44 1  0  3    1   \n",
       "Hornet Sportabout 18.7 8   360  175 3.15 3.440 17.02 0  0  3    2   \n",
       "Valiant           18.1 6   225  105 2.76 3.460 20.22 1  0  3    1   "
      ]
     },
     "metadata": {},
     "output_type": "display_data"
    }
   ],
   "source": [
    "# Load up some packages \n",
    "pacman::p_load('ggplot2',\n",
    "              'reshape2',\n",
    "              'dplyr',\n",
    "              'plotly')\n",
    "\n",
    "# Get some data\n",
    "df <- mtcars\n",
    "df$cyl <- as.factor(df$cyl)\n",
    "\n",
    "# Lets view the data\n",
    "head(df)"
   ]
  },
  {
   "cell_type": "markdown",
   "metadata": {
    "slideshow": {
     "slide_type": "subslide"
    }
   },
   "source": [
    "Maybe we want to know the average fuel ecomony by number of cylinders and gears?"
   ]
  },
  {
   "cell_type": "code",
   "execution_count": 16,
   "metadata": {
    "collapsed": false,
    "slideshow": {
     "slide_type": "-"
    }
   },
   "outputs": [
    {
     "data": {
      "text/html": [
       "<table>\n",
       "<thead><tr><th scope=col>cyl</th><th scope=col>gear</th><th scope=col>mpg_avg</th></tr></thead>\n",
       "<tbody>\n",
       "\t<tr><td>8     </td><td>3     </td><td>15.050</td></tr>\n",
       "\t<tr><td>8     </td><td>5     </td><td>15.400</td></tr>\n",
       "\t<tr><td>6     </td><td>5     </td><td>19.700</td></tr>\n",
       "\t<tr><td>6     </td><td>3     </td><td>19.750</td></tr>\n",
       "\t<tr><td>6     </td><td>4     </td><td>19.750</td></tr>\n",
       "\t<tr><td>4     </td><td>3     </td><td>21.500</td></tr>\n",
       "\t<tr><td>4     </td><td>4     </td><td>26.925</td></tr>\n",
       "\t<tr><td>4     </td><td>5     </td><td>28.200</td></tr>\n",
       "</tbody>\n",
       "</table>\n"
      ],
      "text/latex": [
       "\\begin{tabular}{r|lll}\n",
       " cyl & gear & mpg\\_avg\\\\\n",
       "\\hline\n",
       "\t 8      & 3      & 15.050\\\\\n",
       "\t 8      & 5      & 15.400\\\\\n",
       "\t 6      & 5      & 19.700\\\\\n",
       "\t 6      & 3      & 19.750\\\\\n",
       "\t 6      & 4      & 19.750\\\\\n",
       "\t 4      & 3      & 21.500\\\\\n",
       "\t 4      & 4      & 26.925\\\\\n",
       "\t 4      & 5      & 28.200\\\\\n",
       "\\end{tabular}\n"
      ],
      "text/plain": [
       "  cyl gear mpg_avg\n",
       "1 8   3    15.050 \n",
       "2 8   5    15.400 \n",
       "3 6   5    19.700 \n",
       "4 6   3    19.750 \n",
       "5 6   4    19.750 \n",
       "6 4   3    21.500 \n",
       "7 4   4    26.925 \n",
       "8 4   5    28.200 "
      ]
     },
     "metadata": {},
     "output_type": "display_data"
    }
   ],
   "source": [
    "df %>%\n",
    "    group_by(cyl,gear) %>%\n",
    "    summarise(mpg_avg = mean(mpg)) %>%\n",
    "    arrange(mpg_avg)"
   ]
  },
  {
   "cell_type": "markdown",
   "metadata": {
    "slideshow": {
     "slide_type": "subslide"
    }
   },
   "source": [
    "Maybe that table didn't give us the info we were hoping for. Maybe a plot would be more revealing?\n",
    "\n",
    "This time lets see how horsepower effects fuel economy."
   ]
  },
  {
   "cell_type": "code",
   "execution_count": 31,
   "metadata": {
    "collapsed": false,
    "slideshow": {
     "slide_type": "-"
    }
   },
   "outputs": [
    {
     "data": {
      "text/html": [
       "<iframe src=\"plotlyJupyterHTML/bf5422c85c55c55b73deeb6ddf0e0acb.html\" width=\"100%\" height=\"400\" id=\"igraph\" scrolling=\"no\" seamless=\"seamless\" frameBorder=\"0\"> </iframe>"
      ]
     },
     "metadata": {},
     "output_type": "display_data"
    }
   ],
   "source": [
    "p <- plot_ly(data = df,\n",
    "             type = 'scatter',\n",
    "             mode = 'markers',\n",
    "             x = ~hp,\n",
    "             y = ~mpg,\n",
    "             color = ~cyl,\n",
    "             marker = list(size = 15)\n",
    "             ) %>%\n",
    "    layout(\n",
    "        title = 'Fuel Economy VS POWAAA',\n",
    "        xaxis = list(title = 'POWAAA'),\n",
    "        yaxis = list(title = 'Fuel Economy (MPG)')\n",
    "    )\n",
    "\n",
    "embed_notebook(p)"
   ]
  },
  {
   "cell_type": "markdown",
   "metadata": {
    "slideshow": {
     "slide_type": "slide"
    }
   },
   "source": [
    "# Setting Up Jupyter With R"
   ]
  },
  {
   "cell_type": "markdown",
   "metadata": {
    "slideshow": {
     "slide_type": "fragment"
    }
   },
   "source": [
    "Download & install python 2.7 (for compatibility reasons) and jupyter using the Anaconda distribution https://www.continuum.io/downloads\n",
    "\n"
   ]
  },
  {
   "cell_type": "markdown",
   "metadata": {
    "slideshow": {
     "slide_type": "fragment"
    }
   },
   "source": [
    "\n",
    "\n",
    "Install the required R packages and configure the kernel\n",
    "```R\n",
    "install.packages(c('repr', 'IRdisplay', 'evaluate', 'crayon', 'pbdZMQ', 'devtools', 'uuid', 'digest'))\n",
    "devtools::install_github('IRkernel/IRkernel')\n",
    "IRkernel::installspec()\n",
    "```"
   ]
  },
  {
   "cell_type": "markdown",
   "metadata": {
    "slideshow": {
     "slide_type": "slide"
    }
   },
   "source": [
    "## Resources\n",
    "\n",
    "* Jupyer Website (with a hosted notebook to play around with)\n",
    "http://jupyter.org/\n",
    "\n",
    "\n",
    "* R Kernel Information\n",
    "https://irkernel.github.io/installation/\n",
    "\n",
    "\n",
    "* Jupyter notebook & markdown documentation\n",
    "http://jupyter-notebook.readthedocs.io/en/latest/index.html\n",
    "\n",
    "\n",
    "* Jupyter Slideshow and Interace Example\n",
    "http://www.slideviper.oquanta.info/tutorial/slideshow_tutorial_slides.html#/\n",
    "\n",
    "\n",
    "* Example setup from Anaconda (continuum)\n",
    "https://www.continuum.io/blog/developer/jupyter-and-conda-r"
   ]
  },
  {
   "cell_type": "markdown",
   "metadata": {
    "slideshow": {
     "slide_type": "skip"
    }
   },
   "source": [
    "# Misc"
   ]
  },
  {
   "cell_type": "markdown",
   "metadata": {
    "slideshow": {
     "slide_type": "skip"
    }
   },
   "source": [
    "To run the document, navigate to the folder where it's located & run:\n",
    "```\n",
    "jupyter nbconvert \"Jupyter Slideshow Demo\".ipynb --to slides --post serve\n",
    "```"
   ]
  },
  {
   "cell_type": "markdown",
   "metadata": {
    "slideshow": {
     "slide_type": "skip"
    }
   },
   "source": [
    "The below hides the cells from the slideshow"
   ]
  },
  {
   "cell_type": "raw",
   "metadata": {
    "slideshow": {
     "slide_type": "-"
    }
   },
   "source": [
    "<script>\n",
    "    var code_show=true; //true -> hide code at first\n",
    "\n",
    "    function code_toggle() {\n",
    "        $('div.prompt').hide(); // always hide prompt\n",
    "\n",
    "        if (code_show){\n",
    "            $('div.input').hide();\n",
    "        } else {\n",
    "            $('div.input').show();\n",
    "        }\n",
    "        code_show = !code_show\n",
    "    }\n",
    "    $( document ).ready(code_toggle);\n",
    "</script>"
   ]
  }
 ],
 "metadata": {
  "anaconda-cloud": {},
  "celltoolbar": "Slideshow",
  "kernelspec": {
   "display_name": "R",
   "language": "R",
   "name": "ir"
  },
  "language_info": {
   "codemirror_mode": "r",
   "file_extension": ".r",
   "mimetype": "text/x-r-source",
   "name": "R",
   "pygments_lexer": "r",
   "version": "3.3.1"
  }
 },
 "nbformat": 4,
 "nbformat_minor": 1
}
